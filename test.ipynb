{
 "cells": [
  {
   "cell_type": "code",
   "execution_count": null,
   "metadata": {},
   "outputs": [],
   "source": []
  }
 ],
 "metadata": {
  "interpreter": {
   "hash": "99bd0e06e48d5fde09d72c9b1640544befed0c0b4cfe2aa200626e67bb1ee64e"
  },
  "kernelspec": {
   "display_name": "Python 3.10.2 ('Scraping_Production-9_b6oIpu')",
   "language": "python",
   "name": "python3"
  },
  "language_info": {
   "name": "python",
   "version": "3.10.2"
  },
  "orig_nbformat": 4
 },
 "nbformat": 4,
 "nbformat_minor": 2
}
